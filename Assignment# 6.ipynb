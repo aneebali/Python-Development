{
 "cells": [
  {
   "cell_type": "markdown",
   "metadata": {},
   "source": [
    "# Question 1: Define Object Oriented Programming Language?\n",
    "OOP is mainly a program design philosophy. OOP uses a different set of programming\n",
    "languages than old procedural programming\n",
    "languages (C, Pascal, etc.).\n",
    "Everything in OOP is grouped as self-sustainable \"objects\". Hence, you gain reusability by means of four main object-oriented programming concepts. In OOP programmers define not only the data type of a data structure, but also the types of operations/methods (functions) that can be applied to the data structure.\n"
   ]
  },
  {
   "cell_type": "markdown",
   "metadata": {},
   "source": [
    "# Question 2: List down the Benefits of OOP?\n",
    "•\tUser can create new data type or users define data type by making class.\n",
    "•\tCode can be reuse by using inheritance. \n",
    "•\tData can be hiding from outside world by using encapsulation. \n",
    "•\tOperators or functions can be overloaded by using polymorphism, so same functions or operators can be used for       multitasking.\n",
    "•\tObject oriented system can be easily upgrade from small system to large system. • It is easy to partition work for same project. \n",
    "•\tMessage passing techniques make communication easier. \n",
    "•\tSoftware complexity can be easily managed.\n",
    "•\tMaintenances cost is less.\n",
    "•\tSimple to implement.\n"
   ]
  },
  {
   "cell_type": "markdown",
   "metadata": {},
   "source": [
    "# Question 3: Differentiate between function and method?\n",
    "Functions:\n",
    "•\tFunctions do not have any reference variables.\n",
    "•\tAll data that is passed to a function is explicitly passed.\n",
    "•\tIt does not have access controlling i.e., Function (other than static functions) declares and defines anywhere in the code.\n",
    "•\tFunction applies to both object oriented and non-object oriented language (procedural language.eg. C, Scripting language e.g.; JavaScript etc.).\n",
    "Methods:\n",
    "•\tMethods are called by reference variables.\n",
    "•\tIt is implicitly passed the object for which it was called.\n",
    "•\tIt has access controlling i.e., Method should declare and define in the class only.\n",
    "•\tMethod is only applicable to object-oriented programming language like C++, C#, Java etc.\n"
   ]
  },
  {
   "cell_type": "markdown",
   "metadata": {},
   "source": [
    "# Question 4: Define the following terms:\n",
    "Class: A class is a prototype, idea, and blueprint for creating objects. A class is a definition of\n",
    "objects with the same properties and the same methods.\n",
    "Object: An object is an instance of a class. Informally, an object represents an entity, either\n",
    "physical, conceptual, or software\n",
    "Attribute: An attribute is another term for a field. It's typically a public constant or a public variable that can be accessed directly. In this particular case, the array in Java is actually an object and you are accessing the public constant value that represents the length of the array.\n",
    "Behavior: The behavior of an object is defined by its methods, which are the functions and subroutines defined within the object class. Without class methods, a class would simply be a structure.\n"
   ]
  },
  {
   "cell_type": "code",
   "execution_count": 21,
   "metadata": {},
   "outputs": [
    {
     "name": "stdout",
     "output_type": "stream",
     "text": [
      "BayerischeFlugzeugwerke : Engine is  start\n",
      "BayerischeFlugzeugwerke : Car is in  move  position\n",
      "BMW M3 : Car is in  high speed  position\n",
      "BMW Z4 :  1 liter Fuel added in fuel tank\n",
      "BMW M5 :  1.5 liter Fuel added in fuel tank\n",
      "BMW X3 : Engine is  stop\n"
     ]
    }
   ],
   "source": [
    "# Question 5:Write a code in python in which create a class named it Car which have 5 attributes such like (model, color and name etc.) and 3 bmethods. And create 5 object instance from that class.\n",
    "#Class Car\n",
    "class Car():\n",
    "    #initiate Method constructor\n",
    "    def __init__(self,model,color,name,car_type,reg_no):\n",
    "        # 5 car attributes\n",
    "        self.model = model\n",
    "        self.color = color\n",
    "        self.name = name\n",
    "        self.car_type = car_type\n",
    "        self.reg_no = reg_no\n",
    "      # Method 1    \n",
    "    def drive(self,command):\n",
    "        print(self.name,\": Car is in \", command ,\" position\")\n",
    "      # Method 2\n",
    "    def fill_feul_tank(self,liter):\n",
    "        print(self.name,  \": \",liter ,\"Fuel added in fuel tank\")\n",
    "      # Method 3\n",
    "    def start_stop_engine(self,command):\n",
    "        print(self.name,\": Engine is \", command)\n",
    "\n",
    "    \n",
    "#instance / object 1\n",
    "car1 = Car('BMW','Black','BayerischeFlugzeugwerke','BMWs MINI','A356d')\n",
    "\n",
    "#instance / object 2\n",
    "\n",
    "car2 = Car('BMW','Black','BMW M3','Sports car','A357d')\n",
    "#instance / object 3\n",
    "\n",
    "car3 = Car('BMW','Black','BMW X3','Crossover SUV','A358d')\n",
    "#instance / object 4\n",
    "\n",
    "car4 = Car('BMW','Black','BMW Z4','Roadster','A359d')\n",
    "#instance / object 5\n",
    "\n",
    "car5 = Car('BMW','Black','BMW M5','Sedan','A350d')\n",
    "\n",
    "car1.start_stop_engine(\"start\")\n",
    "car1.drive(\"move\")\n",
    "car2.drive(\"high speed\")\n",
    "car4.fill_feul_tank(\"1 liter\")\n",
    "car5.fill_feul_tank(\"1.5 liter\")\n",
    "car3.start_stop_engine(\"stop\")\n",
    "\n",
    "    "
   ]
  },
  {
   "cell_type": "code",
   "execution_count": null,
   "metadata": {},
   "outputs": [],
   "source": []
  }
 ],
 "metadata": {
  "kernelspec": {
   "display_name": "Python 3",
   "language": "python",
   "name": "python3"
  },
  "language_info": {
   "codemirror_mode": {
    "name": "ipython",
    "version": 3
   },
   "file_extension": ".py",
   "mimetype": "text/x-python",
   "name": "python",
   "nbconvert_exporter": "python",
   "pygments_lexer": "ipython3",
   "version": "3.7.4"
  }
 },
 "nbformat": 4,
 "nbformat_minor": 2
}
