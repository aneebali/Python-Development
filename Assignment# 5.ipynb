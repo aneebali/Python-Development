{
 "cells": [
  {
   "cell_type": "code",
   "execution_count": 19,
   "metadata": {},
   "outputs": [
    {
     "name": "stdout",
     "output_type": "stream",
     "text": [
      "Enter the number to calculate factorial! : 4\n",
      "factorial of this ( 4 ) is :  24\n"
     ]
    }
   ],
   "source": [
    "# Write a Python function to calculate the factorial of a number (a non-negative integer). The function accepts the number as an argument.\n",
    "\n",
    "def factorial(num):\n",
    "    fact = 1    \n",
    "    for x in range(1,num + 1):\n",
    "        fact = fact*x\n",
    "    print(\"factorial of this (\",num,\") is : \", fact)\n",
    "\n",
    "\n",
    "number = int(input(\"Enter the number to calculate factorial! : \"))\n",
    "\n",
    "if(number > 0):\n",
    "    factorial(number)\n",
    "else:\n",
    "    print(\"Invalivid input !. Please input non- negative integer\")"
   ]
  },
  {
   "cell_type": "code",
   "execution_count": 23,
   "metadata": {},
   "outputs": [
    {
     "name": "stdout",
     "output_type": "stream",
     "text": [
      "Original String :  Python Programming Assignment\n",
      "No. of Upper case characters :  3\n",
      "No. of Lower case Characters :  24\n"
     ]
    }
   ],
   "source": [
    "# Write a Python function that accepts a string and calculate the number of upper case letters and lower case letters.\n",
    "\n",
    "def count_upper_lower(s):\n",
    "    d={\"UPPER_CASE\":0, \"LOWER_CASE\":0}\n",
    "    for c in s:\n",
    "        if c.isupper():\n",
    "            d[\"UPPER_CASE\"]+=1\n",
    "        elif c.islower():\n",
    "            d[\"LOWER_CASE\"]+=1\n",
    "  \n",
    "    print (\"Original String : \", s)\n",
    "    print (\"No. of Upper case characters : \", d[\"UPPER_CASE\"])\n",
    "    print (\"No. of Lower case Characters : \", d[\"LOWER_CASE\"])\n",
    "\n",
    "count_upper_lower('Python Programming Assignment')"
   ]
  },
  {
   "cell_type": "code",
   "execution_count": 24,
   "metadata": {},
   "outputs": [
    {
     "name": "stdout",
     "output_type": "stream",
     "text": [
      "2\n",
      "4\n",
      "6\n",
      "8\n",
      "10\n",
      "12\n",
      "14\n"
     ]
    }
   ],
   "source": [
    "# Write a Python function to print the even numbers from a given list\n",
    "\n",
    "num = [1,2,3,4,5,6,7,8,9,10,11,12,13,14,15]\n",
    "\n",
    "\n",
    "def find_even(numlist):\n",
    "    for i in numlist:\n",
    "        if(i%2 == 0):\n",
    "            print(i)\n",
    "            \n",
    "            \n",
    "find_even(num)\n",
    "\n"
   ]
  },
  {
   "cell_type": "code",
   "execution_count": 36,
   "metadata": {},
   "outputs": [
    {
     "name": "stdout",
     "output_type": "stream",
     "text": [
      "level is a palindrome word\n"
     ]
    }
   ],
   "source": [
    "# Write a Python function that checks whether a passed string is palindrome or not. Note: A palindrome is a word, phrase, or sequence that reads the same backward as forward, e.g., madam\n",
    "\n",
    "def check_Palindrome(string):\n",
    "    left_pos = 0\n",
    "    right_pos = len(string) - 1\n",
    "\n",
    "    while right_pos >= left_pos:\n",
    "        if not string[left_pos] == string[right_pos]:\n",
    "            return False\n",
    "        left_pos += 1\n",
    "        right_pos -= 1\n",
    "    return True\n",
    "\n",
    "word = \"level\"\n",
    "if(check_Palindrome(word)== True):    \n",
    "    print(word,\"is a palindrome word\")\n",
    "else:\n",
    "    print(word,\"is not a palindrome word\")\n",
    "\n",
    "\n"
   ]
  },
  {
   "cell_type": "code",
   "execution_count": 38,
   "metadata": {},
   "outputs": [
    {
     "name": "stdout",
     "output_type": "stream",
     "text": [
      "5 is a prime number\n"
     ]
    }
   ],
   "source": [
    "# Write a Python function that takes a number as a parameter and check the number is prime or not.\n",
    "\n",
    "def check_prime(n):\n",
    "    if (n==1):\n",
    "        return False\n",
    "    elif (n==2):\n",
    "        return True;\n",
    "    else:\n",
    "        for x in range(2,n):\n",
    "            if(n % x==0):\n",
    "                return False\n",
    "        return True  \n",
    "num = 5\n",
    "if(check_prime(num) == True):    \n",
    "    print(num,\"is a prime number\")\n",
    "else:\n",
    "    print(num,\"is not a prime number\")\n"
   ]
  },
  {
   "cell_type": "code",
   "execution_count": 46,
   "metadata": {},
   "outputs": [
    {
     "name": "stdout",
     "output_type": "stream",
     "text": [
      "item no  1 : wave oven\n",
      "item no  2 : Refrigerator (commonly “fridge”)\n",
      "item no  3 : Dishwasher\n",
      "item no  4 : Breadbox\n",
      "item no  5 : Pitcher (or jug)\n",
      "item no  6 : Blender\n",
      "item no  7 : Colander\n",
      "item no  8 : Tureen (or bowl)\n",
      "item no  9 : Cookware\n",
      "item no  10 : Frying pan\n"
     ]
    }
   ],
   "source": [
    "# Suppose a customer is shopping in a market and you need to print all the items which user bought from market. Write a function which accepts the multiple arguments of user shopping list and print all the items which user bought from market. \n",
    "\n",
    "#(Hint: Arbitrary Argument concept can make this task ease)\n",
    "\n",
    "def customer_items(*items_list):\n",
    "    for i,item in enumerate(items_list):\n",
    "        print(\"item no \",i+1,\":\" ,item)\n",
    " \n",
    "    \n",
    "customer_items(\"wave oven\",\"Refrigerator (commonly “fridge”)\",\"Dishwasher\" ,\"Breadbox\" ,\"Pitcher (or jug)\" ,\"Blender\" \n",
    "               ,\"Colander\" ,\"Tureen (or bowl)\",\"Cookware\",\"Frying pan\" )\n",
    "\n"
   ]
  },
  {
   "cell_type": "code",
   "execution_count": null,
   "metadata": {},
   "outputs": [],
   "source": []
  }
 ],
 "metadata": {
  "kernelspec": {
   "display_name": "Python 3",
   "language": "python",
   "name": "python3"
  },
  "language_info": {
   "codemirror_mode": {
    "name": "ipython",
    "version": 3
   },
   "file_extension": ".py",
   "mimetype": "text/x-python",
   "name": "python",
   "nbconvert_exporter": "python",
   "pygments_lexer": "ipython3",
   "version": "3.7.4"
  }
 },
 "nbformat": 4,
 "nbformat_minor": 2
}
