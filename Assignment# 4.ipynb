{
 "cells": [
  {
   "cell_type": "code",
   "execution_count": 12,
   "metadata": {},
   "outputs": [
    {
     "name": "stdout",
     "output_type": "stream",
     "text": [
      "first_name :  Hassan \n",
      "last_name :  Ali\n",
      "age :  24\n",
      "city :  Karachi\n",
      "\n",
      "\n",
      "first_name :  Hassan \n",
      "last_name :  Ali\n",
      "age :  24\n",
      "city :  Karachi\n",
      "qualification :  Bachelor\n",
      "\n",
      "\n",
      "first_name :  Hassan \n",
      "last_name :  Ali\n",
      "age :  24\n",
      "city :  Karachi\n",
      "qualification :  Master\n",
      "\n",
      "\n",
      "first_name :  Hassan \n",
      "last_name :  Ali\n",
      "age :  24\n",
      "city :  Karachi\n"
     ]
    }
   ],
   "source": [
    "# Use a dictionary to store information about a person you know. Store their first name, last name, age, and the city in which they live. You should have keys such as first_name, last_name, age, and city. Print each piece of information stored in your dictionary. Add a new key value pair about qualification then update the qualification value to high academic level then delete it.\n",
    "\n",
    "customer_info = {\"first_name\": \"Hassan \", \"last_name\": \"Ali\", \"age\": 24 , \"city\": \"Karachi\"}\n",
    "\n",
    "#show all info stored in dictionary\n",
    "for cn in customer_info:\n",
    "    print(cn,\": \",customer_info[cn] )\n",
    "print(\"\\n\")    \n",
    "    \n",
    "# Add a new key value pair about qualification     \n",
    "customer_info[\"qualification\"] = \"Bachelor\"\n",
    "\n",
    "#show all info stored in dictionary\n",
    "for cn in customer_info:\n",
    "    print(cn,\": \",customer_info[cn] )\n",
    "print(\"\\n\")    \n",
    "\n",
    "# update the qualification value to high academic level     \n",
    "customer_info[\"qualification\"] = \"Master\"\n",
    "\n",
    "#show all info stored in dictionary\n",
    "for cn in customer_info:\n",
    "    print(cn,\": \",customer_info[cn] )\n",
    "print(\"\\n\")    \n",
    "\n",
    "# Now delete it.\n",
    "del customer_info[\"qualification\"]    \n",
    "\n",
    "#show all info stored in dictionary\n",
    "for cn in customer_info:\n",
    "    print(cn,\": \",customer_info[cn] )"
   ]
  },
  {
   "cell_type": "code",
   "execution_count": 1,
   "metadata": {},
   "outputs": [
    {
     "name": "stdout",
     "output_type": "stream",
     "text": [
      "\n",
      "City Name :  Hydeyabad\n",
      "country: Pakistan\n",
      "fatc: Second-largest city in Sindh and fourth-largest in Pakistan\n",
      "population: 1.733 million\n",
      "\n",
      "City Name :  Islamabad\n",
      "country: Pakistan\n",
      "fatc: Capital city of Pakistan\n",
      "population: 1,014,825\n",
      "\n",
      "City Name :  London\n",
      "country: England\n",
      "fatc: Capital and largest city of England and the United Kingdom\n",
      "population: 8.63 million\n"
     ]
    }
   ],
   "source": [
    "# Make a dictionary called cities. Use the names of three cities as keys in your dictionary. Create a dictionary of information about each city and include the country that the city is in, its approximate population, and one fact about that city. The keys for each city’s dictionary should be something like country, population, and fact. Print the name of each city and all of the information you have stored about it.\n",
    "\n",
    "cities = {\"Hydeyabad\" : { \"country\": \"Pakistan\" , \"fatc\": \"Second-largest city in Sindh and fourth-largest in Pakistan\" , \"population\": \"1.733 million\" }, \n",
    "          \"Islamabad\" : { \"country\": \"Pakistan\" , \"fatc\": \"Capital city of Pakistan\" , \"population\": \"1,014,825\"}, \n",
    "          \"London\" : { \"country\": \"England\" , \"fatc\": \"Capital and largest city of England and the United Kingdom\" , \"population\": \"8.63 million\"}\n",
    "         }\n",
    "\n",
    "for city_id, city_info in cities.items():\n",
    "    print(\"\\nCity Name : \", city_id)\n",
    "    \n",
    "    for key in city_info:\n",
    "        print(key + ':', city_info[key])\n"
   ]
  },
  {
   "cell_type": "code",
   "execution_count": 16,
   "metadata": {},
   "outputs": [
    {
     "name": "stdout",
     "output_type": "stream",
     "text": [
      "Enter the number of person : 2\n",
      "Enter the age of person  1\n",
      "12\n",
      "Enter the age of person  2\n",
      "5\n",
      "________________________________\n",
      "Your total amount is : $ 20\n"
     ]
    }
   ],
   "source": [
    "# A movie theater charges different ticket prices depending on a person’s age. If a person is under the age of 3, the ticket is free; if they are between 3 and 12, the ticket is $10; and if they are over age 12, the ticket is $15. Write a loop in which you ask users their age, and then tell them the cost of their movie ticket.\n",
    "\n",
    "age = []\n",
    "amount = 0\n",
    "\n",
    "persons = int(input(\"Enter the number of person : \" ))\n",
    "\n",
    "for i in range(persons):\n",
    "    print(\"Enter the age of person \",i+1)\n",
    "    num = int(input())\n",
    "    age.append(num)\n",
    "        \n",
    "    \n",
    "for val in age:\n",
    "    if val <= 3:\n",
    "        amount += 0\n",
    "    elif val > 3 and val <= 12:\n",
    "        amount += 10\n",
    "    elif val > 12:\n",
    "        amount += 15\n",
    "        \n",
    "print(\"________________________________\")   \n",
    "print(\"Your total amount is : $\", amount)\n",
    "    \n",
    "\n",
    "\n",
    "\n"
   ]
  },
  {
   "cell_type": "code",
   "execution_count": 19,
   "metadata": {},
   "outputs": [
    {
     "name": "stdout",
     "output_type": "stream",
     "text": [
      "One of my favorite book is The Cloudspotter’s Guide\n"
     ]
    }
   ],
   "source": [
    "#Write a function called favorite_book() that accepts one parameter, title. The function should print a message, such as One of my favorite books is Alice in Wonderland. Call the function, making sure to include a book title as an argument in the function call.\n",
    "\n",
    "def favorite_book(book_title):\n",
    "    print(\"One of my favorite book is\",book_title)\n",
    "\n",
    "    \n",
    "favorite_book(\"The Cloudspotter’s Guide\")    \n"
   ]
  },
  {
   "cell_type": "code",
   "execution_count": 2,
   "metadata": {},
   "outputs": [
    {
     "name": "stdout",
     "output_type": "stream",
     "text": [
      "***********Guess The Number***********\n",
      "Guess the Random number between 1 to 30\n",
      "3 live remaining..\n",
      "Enter number :3\n",
      "wrong input\n",
      "Hint : number is grater than your input number\n",
      "2 live remaining..\n",
      "Enter number :45\n",
      "wrong input\n",
      "Hint : number is Less than your input number\n",
      "1 live remaining..\n",
      "Enter number :25\n",
      "wrong input\n",
      "Random number is :  20\n",
      "****************** You lose ! ********************\n"
     ]
    }
   ],
   "source": [
    "#Guess the number game\n",
    "#Write a program which randomly generate a number between 1 to 30 and ask the user in input field to guess the correct number. Give three chances to user guess the number and also give hint to user if hidden number is greater or smaller than the number he given to input field.\n",
    "\n",
    "from random import randint\n",
    "\n",
    "val = randint(1, 30)\n",
    "\n",
    "print(\"***********Guess The Number***********\")\n",
    "print(\"Guess the Random number between 1 to 30\")\n",
    "\n",
    "wrong = 0\n",
    "#loop runs three times because user have three chances to win guess the number\n",
    "for i in range(3):\n",
    "    print(3-i ,\"live remaining..\")\n",
    "    user_val = int (input(\"Enter number :\"))        \n",
    "    if val == user_val:\n",
    "        print(\"****************** You Win ! ********************\")\n",
    "        break\n",
    "    else:\n",
    "        wrong += 1\n",
    "        print(\"wrong input\")\n",
    "        \n",
    "    if(wrong == 3):\n",
    "        print(\"Random number is : \" ,val) \n",
    "        print(\"****************** You lose ! ********************\") \n",
    "        break\n",
    "        \n",
    "    if val > user_val:\n",
    "        print(\"Hint : number is grater than your input number\")\n",
    "    else:\n",
    "        print(\"Hint : number is Less than your input number\")\n",
    "    "
   ]
  },
  {
   "cell_type": "code",
   "execution_count": null,
   "metadata": {},
   "outputs": [],
   "source": []
  }
 ],
 "metadata": {
  "kernelspec": {
   "display_name": "Python 3",
   "language": "python",
   "name": "python3"
  },
  "language_info": {
   "codemirror_mode": {
    "name": "ipython",
    "version": 3
   },
   "file_extension": ".py",
   "mimetype": "text/x-python",
   "name": "python",
   "nbconvert_exporter": "python",
   "pygments_lexer": "ipython3",
   "version": "3.7.4"
  }
 },
 "nbformat": 4,
 "nbformat_minor": 2
}
