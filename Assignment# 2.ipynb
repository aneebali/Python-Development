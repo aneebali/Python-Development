{
 "cells": [
  {
   "cell_type": "code",
   "execution_count": 11,
   "metadata": {},
   "outputs": [
    {
     "name": "stdout",
     "output_type": "stream",
     "text": [
      "Enter the marks of Subject 1 :67\n",
      "Enter the marks of Subject 2 :78\n",
      "Enter the marks of Subject 3 :45\n",
      "Enter the marks of Subject 4 :30\n",
      "Enter the marks of Subject 5 :28\n",
      "total marks is : 248\n",
      "total percentage is : 49.600000\n",
      "D\n"
     ]
    }
   ],
   "source": [
    "# Write a program which takes 5 inputs from user for different subject’s marks, total it and generate mark sheet using grades ?\n",
    "\n",
    "S1 = int(input(\"Enter the marks of Subject 1 :\"))\n",
    "S2 = int(input(\"Enter the marks of Subject 2 :\"))\n",
    "S3 = int(input(\"Enter the marks of Subject 3 :\"))\n",
    "S4 = int(input(\"Enter the marks of Subject 4 :\"))\n",
    "S5 = int(input(\"Enter the marks of Subject 5 :\"))\n",
    "\n",
    "total = S1+S2+S3+S4+S5\n",
    "\n",
    "per = (total / 500) * 100\n",
    "\n",
    "print(\"total marks is : %d\" %total)\n",
    "print(\"total percentage is : %2f\"%per )\n",
    "\n",
    "\n",
    "if per >= 80 and per <= 100 :\n",
    "    print(\"A+\")\n",
    "elif per >= 70 and per < 80 :\n",
    "    print(\"A\")   \n",
    "elif per >= 60 and per < 70 :\n",
    "    print(\"B\")   \n",
    "elif per >= 50 and per < 60 :\n",
    "    print(\"C\")   \n",
    "elif per >= 40 and per < 50 :\n",
    "    print(\"D\")   \n",
    "elif per >= 33 and per < 40 :\n",
    "    print(\"E\")   \n",
    "elif per >= 0 and per < 33 :\n",
    "    print(\"Fail\")   \n",
    "else :\n",
    "    print(\"You have given inapproperiate % \")\n"
   ]
  },
  {
   "cell_type": "code",
   "execution_count": 16,
   "metadata": {},
   "outputs": [
    {
     "name": "stdout",
     "output_type": "stream",
     "text": [
      "Enter any number : 19\n",
      "19 is Odd number\n"
     ]
    }
   ],
   "source": [
    "# Write a program which take input from user and identify that the given number is even or odd?\n",
    "x = int(input(\"Enter any number : \"))\n",
    "\n",
    "if ( x%2 == 0):\n",
    "    print(\"%d is Even number\" %x )\n",
    "else:\n",
    "    print(\"%d is Odd number\" %x)\n",
    "\n"
   ]
  },
  {
   "cell_type": "code",
   "execution_count": 18,
   "metadata": {},
   "outputs": [
    {
     "name": "stdout",
     "output_type": "stream",
     "text": [
      "Number of items in the list =  6\n"
     ]
    }
   ],
   "source": [
    "# Write a program which print the length of the list?\n",
    "\n",
    "cities = [\"Atlanta\", \"Baltimore\", \"Chicago\",\"Denver\", \"Los Angeles\", \"Seattle\"]\n",
    "print (\"Number of items in the list = \", len(cities))"
   ]
  },
  {
   "cell_type": "code",
   "execution_count": 20,
   "metadata": {},
   "outputs": [
    {
     "name": "stdout",
     "output_type": "stream",
     "text": [
      "Summ of all numeric items is :  55\n"
     ]
    }
   ],
   "source": [
    "# Write a Python program to sum all the numeric items in a list?\n",
    "\n",
    "arr = [1,2,3,4,5,6,7,8,9,10]\n",
    "\n",
    "print (\"Summ of all numeric items is : \" , sum(arr))\n",
    "\n"
   ]
  },
  {
   "cell_type": "code",
   "execution_count": 21,
   "metadata": {},
   "outputs": [
    {
     "name": "stdout",
     "output_type": "stream",
     "text": [
      "largest number from a numeric list is :  10\n"
     ]
    }
   ],
   "source": [
    "# Write a Python program to get the largest number from a numeric list.\n",
    "num = [1,2,3,4,5,6,7,8,9,10]\n",
    "print (\"largest number from a numeric list is : \" , max(num))\n"
   ]
  },
  {
   "cell_type": "code",
   "execution_count": 25,
   "metadata": {},
   "outputs": [
    {
     "name": "stdout",
     "output_type": "stream",
     "text": [
      "None\n",
      "None\n",
      "None\n",
      "None\n",
      "[1, 1, 2, 3]\n"
     ]
    }
   ],
   "source": [
    "''' Take a list, say for example this one:\n",
    "a = [1, 1, 2, 3, 5, 8, 13, 21, 34, 55, 89]\n",
    "and write a program that prints out all the elements of the list that are\n",
    "less than 5. '''\n",
    "a = [1, 1, 2, 3, 5, 8, 13, 21, 34, 55, 89]\n",
    "arr2 = []\n",
    "if(a[0] < 5):\n",
    "    print(arr2.append(a[0]))\n",
    "if(a[1] < 5):\n",
    "    print(arr2.append(a[1]))\n",
    "if(a[2] < 5):\n",
    "    print(arr2.append(a[2]))\n",
    "if(a[3] < 5):\n",
    "    print(arr2.append(a[3]))\n",
    "if(a[4] < 5):\n",
    "    print(arr2.append(a[4]))\n",
    "if(a[5] < 5):\n",
    "    print(arr2.append(a[5]))\n",
    "if(a[6] < 5):\n",
    "    print(arr2.append(a[6]))\n",
    "if(a[7] < 5):\n",
    "    print(arr2.append(a[7]))\n",
    "if(a[8] < 5):\n",
    "    print(arr2.append(a[8]))\n",
    "if(a[9] < 5):\n",
    "    print(arr2.append(a[9]))\n",
    "if(a[10] < 5):\n",
    "    print(arr2.append(a[10]))\n",
    "    \n",
    "print(arr2)    \n",
    "\n"
   ]
  },
  {
   "cell_type": "code",
   "execution_count": null,
   "metadata": {},
   "outputs": [],
   "source": []
  }
 ],
 "metadata": {
  "kernelspec": {
   "display_name": "Python 3",
   "language": "python",
   "name": "python3"
  },
  "language_info": {
   "codemirror_mode": {
    "name": "ipython",
    "version": 3
   },
   "file_extension": ".py",
   "mimetype": "text/x-python",
   "name": "python",
   "nbconvert_exporter": "python",
   "pygments_lexer": "ipython3",
   "version": "3.7.4"
  }
 },
 "nbformat": 4,
 "nbformat_minor": 2
}
