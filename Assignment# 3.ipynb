{
 "cells": [
  {
   "cell_type": "code",
   "execution_count": 6,
   "metadata": {},
   "outputs": [
    {
     "name": "stdout",
     "output_type": "stream",
     "text": [
      "Enter first value : 2\n",
      "Enter operation sign you perfom : power\n",
      "Enter first value : 3\n",
      "Result :  8\n"
     ]
    }
   ],
   "source": [
    "# Make a calculator using Python with addition , subtraction , multiplication ,division and power.\n",
    "\n",
    "val1= int(input(\"Enter first value : \"))\n",
    "operater = input(\"Enter operation sign you perfom : \")\n",
    "val2= int(input(\"Enter first value : \"))\n",
    "\n",
    "if(operater == \"+\"):\n",
    "    val = val1 + val2\n",
    "    print(\"Result : \" , val)\n",
    "elif(operater == \"-\"):\n",
    "    val = val1 - val2\n",
    "    print(\"Result : \" , val)\n",
    "elif(operater == \"*\"):\n",
    "    val = val1 * val2\n",
    "    print(\"Result : \" , val)\n",
    "elif(operater == \"/\"):\n",
    "    val = val1 / val2\n",
    "    print(\"Result : \" , val)\n",
    "elif(operater == \"power\"):\n",
    "    val = val1 ** val2\n",
    "    print(\"Result : \" , val)\n",
    "else:\n",
    "        print(\"Invalid Operand\")\n",
    "\n",
    "    \n"
   ]
  },
  {
   "cell_type": "code",
   "execution_count": 23,
   "metadata": {},
   "outputs": [
    {
     "name": "stdout",
     "output_type": "stream",
     "text": [
      "['jack', 10, 'sparrow', 'jhon', 189, 'Alice', 0, 'andrew'] \n",
      "\n",
      "3  Numeric vakue found in this List\n"
     ]
    }
   ],
   "source": [
    "# Write a program to check if there is any numeric value in list using for loop\n",
    "list1 =[\"jack\",10,\"sparrow\",\"jhon\",189,\"Alice\",0,\"andrew\"]\n",
    "\n",
    "print(list1 ,\"\\n\");\n",
    "\n",
    "intCount = 0\n",
    "\n",
    "for checkList in list1: \n",
    "    if(str(checkList).isnumeric() == True):\n",
    "        intCount+= 1\n",
    "        \n",
    "if(intCount == 0):\n",
    "    print(\"Numeric value not found in this List\")\n",
    "else:\n",
    "    print(intCount , \" Numeric vakue found in this List\")\n",
    "\n"
   ]
  },
  {
   "cell_type": "code",
   "execution_count": 25,
   "metadata": {},
   "outputs": [
    {
     "name": "stdout",
     "output_type": "stream",
     "text": [
      "{0: 'jhon', 1: 'michel'}\n",
      "{0: 'jhon', 1: 'michel', 2: 'Anne Marie'}\n"
     ]
    }
   ],
   "source": [
    "# Write a Python script to add a key to a dictionary\n",
    "NameDictonary = {0:\"jhon\",1:\"michel\"}\n",
    "print(NameDictonary)\n",
    "\n",
    "# add key to a same dictionaer\n",
    "NameDictonary.update({2:\"Anne Marie\"})\n",
    "\n",
    "print(NameDictonary)\n",
    "\n"
   ]
  },
  {
   "cell_type": "code",
   "execution_count": 51,
   "metadata": {},
   "outputs": [
    {
     "name": "stdout",
     "output_type": "stream",
     "text": [
      "60\n"
     ]
    }
   ],
   "source": [
    "# Write a Python program to sum all the numeric items in a dictionary\n",
    "dicts = {'a': 10, 'b':20, 'c':30} \n",
    "sums = 0\n",
    "for i in dicts: \n",
    "    sums = sums + dicts[i] \n",
    "            \n",
    "print(sums);\n"
   ]
  },
  {
   "cell_type": "code",
   "execution_count": 55,
   "metadata": {},
   "outputs": [
    {
     "name": "stdout",
     "output_type": "stream",
     "text": [
      "[2, 1, 4, 3, 2, 6, 7, 5, 4, 4, 3, 7, 8, 10, 9, 9]\n",
      "These are the duplicate numbers in this list\n",
      "[2, 4, 3, 7, 9]\n"
     ]
    }
   ],
   "source": [
    "# Write a program to identify duplicate values from list\n",
    "\n",
    "lista = [2,1,4,3,2,6,7,5,4,4,3,7,8,10,9,9]\n",
    "print(lista)\n",
    "finallist = []\n",
    "duplicate = []\n",
    "for num in lista:\n",
    "    if(num not in duplicate):\n",
    "        duplicate.append(num)\n",
    "    else:\n",
    "        if(num not in finallist):\n",
    "            finallist.append(num)\n",
    "\n",
    "if(not finallist):\n",
    "    print(\"duplicate numbers not found in this list\")            \n",
    "else:\n",
    "    print(\"These are the duplicate numbers in this list\")            \n",
    "    print(finallist)\n",
    "\n",
    "        \n",
    "        \n",
    "\n"
   ]
  },
  {
   "cell_type": "code",
   "execution_count": 67,
   "metadata": {},
   "outputs": [
    {
     "name": "stdout",
     "output_type": "stream",
     "text": [
      "Enter key : 1\n",
      "Key is present in the dictionary\n"
     ]
    }
   ],
   "source": [
    "# Write a Python script to check if a given key already exists in a dictionary\n",
    "\n",
    "dic = {\"a\": 10, \"b\": 20, \"c\": 30, 1: 40, 2: 50, 3: 60}\n",
    "\n",
    "key = input(\"Enter key : \")\n",
    "\n",
    "# for check if key is int then cast into int because dictinary key is in both int and str ...\n",
    "if(key.isnumeric() == True):\n",
    "    key = int(key)\n",
    "\n",
    "if key in dic:\n",
    "    print('Key is present in the dictionary')\n",
    "else:\n",
    "    print('Key is not present in the dictionary')\n"
   ]
  },
  {
   "cell_type": "code",
   "execution_count": null,
   "metadata": {},
   "outputs": [],
   "source": []
  }
 ],
 "metadata": {
  "kernelspec": {
   "display_name": "Python 3",
   "language": "python",
   "name": "python3"
  },
  "language_info": {
   "codemirror_mode": {
    "name": "ipython",
    "version": 3
   },
   "file_extension": ".py",
   "mimetype": "text/x-python",
   "name": "python",
   "nbconvert_exporter": "python",
   "pygments_lexer": "ipython3",
   "version": "3.7.4"
  }
 },
 "nbformat": 4,
 "nbformat_minor": 2
}
